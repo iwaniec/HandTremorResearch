{
 "cells": [
  {
   "cell_type": "markdown",
   "id": "0bc0f2e5",
   "metadata": {},
   "source": [
    "# Data Analysis and Visualization of Time to Target with Tremor Identification\n",
    "\n",
    "This code was developed to analyze data and generate figures for \"Evaluating Mouse Control and Usability Patterns Across Tremor and Non-Tremor Populations\""
   ]
  },
  {
   "cell_type": "markdown",
   "id": "5b11a599",
   "metadata": {},
   "source": [
    "### Loading necessary libraries"
   ]
  },
  {
   "cell_type": "code",
   "execution_count": 2,
   "id": "ce643f0e",
   "metadata": {},
   "outputs": [],
   "source": [
    "import os\n",
    "import numpy as np\n",
    "import pandas as pd\n",
    "import matplotlib.pyplot as plt\n",
    "import seaborn as sns\n",
    "from scipy import stats"
   ]
  },
  {
   "cell_type": "markdown",
   "id": "7f79c774",
   "metadata": {},
   "source": [
    "### Processing Functions"
   ]
  },
  {
   "cell_type": "code",
   "execution_count": 3,
   "id": "e1395197",
   "metadata": {},
   "outputs": [],
   "source": [
    "# Define FFT\n",
    "def simpleFFT(fs, signal):\n",
    "    N = len(signal)\n",
    "    f = fs / N * np.arange(N)\n",
    "    F_signal = np.fft.fft(signal) / N\n",
    "    freqs = f[:N // 2]\n",
    "    f_amp = np.abs(F_signal[:N // 2])\n",
    "    return freqs, f_amp"
   ]
  },
  {
   "cell_type": "markdown",
   "id": "630c6492",
   "metadata": {},
   "source": [
    "## Calculate Spectrums"
   ]
  },
  {
   "cell_type": "code",
   "execution_count": 4,
   "id": "fe79077c",
   "metadata": {},
   "outputs": [],
   "source": [
    "# tremor status of participants\n",
    "tremors = pd.read_csv('../survey analysis/survey_results_text.csv', skiprows=1, header=0)\n",
    "tremors = tremors[tremors['participant_ID']!='SURVEY TEST']\n",
    "tremors = tremors[['participant_ID', 'tremor_level']]"
   ]
  },
  {
   "cell_type": "code",
   "execution_count": 45,
   "id": "c1ea7aca",
   "metadata": {},
   "outputs": [],
   "source": [
    "# Create dataframe with spectrum information\n",
    "spectrum_power = pd.DataFrame({'participant_ID': [], 'power': []})\n",
    "\n",
    "for i in range(50):\n",
    "    if os.path.exists(\"./data/TestTaker\" + str(i) + \".csv\"):\n",
    "\n",
    "        # Load the data\n",
    "        data = pd.read_csv((\"./data/TestTaker\" + str(i) + \".csv\"))\n",
    "        data.columns = data.columns.str.strip()\n",
    "\n",
    "        t = data[\"Timestamp\"].values\n",
    "        Z = data[\"GyroZ\"].values\n",
    "\n",
    "        # Calculate the power spectrum\n",
    "        fs = 1 / (t[1] - t[0])\n",
    "        f, f_amp = simpleFFT(fs, Z)\n",
    "\n",
    "        # Identify [something]\n",
    "        row = pd.DataFrame({'participant_ID': ['PT' + str(i).zfill(2)], 'power': [np.sum(f_amp)/len(f_amp)]})\n",
    "        # print(row)\n",
    "        spectrum_power = pd.concat([spectrum_power, row], ignore_index=True)"
   ]
  },
  {
   "cell_type": "code",
   "execution_count": 46,
   "id": "67cd9bb9",
   "metadata": {},
   "outputs": [],
   "source": [
    "# Merge the data\n",
    "spectrum_power['participant_ID'] = spectrum_power['participant_ID']\n",
    "participant_power = pd.merge(tremors, spectrum_power, on='participant_ID')\n",
    "participant_power = participant_power.dropna()\n"
   ]
  },
  {
   "cell_type": "markdown",
   "id": "5ff5579c",
   "metadata": {},
   "source": [
    "## Spectrum Power per Participant"
   ]
  },
  {
   "cell_type": "markdown",
   "id": "b368605b",
   "metadata": {},
   "source": [
    "### Combine Data Into One DataFrame"
   ]
  },
  {
   "cell_type": "code",
   "execution_count": 51,
   "id": "3a926773",
   "metadata": {},
   "outputs": [
    {
     "data": {
      "image/png": "[encoded data removed]",
      "text/plain": [
       "<Figure size 640x480 with 1 Axes>"
      ]
     },
     "metadata": {},
     "output_type": "display_data"
    }
   ],
   "source": [
    "sns.boxplot(data=participant_power, x='tremor_level', y='power')\n",
    "plt.title('Mean Time to Target of Participants grouped by Tremor Level')\n",
    "plt.xlabel('Tremor Occurance')\n",
    "plt.ylabel('Normalized Power')\n",
    "plt.show()"
   ]
  },
  {
   "cell_type": "code",
   "execution_count": 48,
   "id": "b9cfefd4",
   "metadata": {},
   "outputs": [
    {
     "name": "stdout",
     "output_type": "stream",
     "text": [
      "                   sum_sq    df          F        PR(>F)\n",
      "C(tremor_level)  0.001002   2.0  19.580081  7.627530e-07\n",
      "Residual         0.001151  45.0        NaN           NaN\n"
     ]
    }
   ],
   "source": [
    "import statsmodels.api as sm\n",
    "from statsmodels.formula.api import ols\n",
    "\n",
    "# One-way ANOVA: Score by tremor_level\n",
    "anova_model = ols('power ~ C(tremor_level)', data=participant_power).fit()\n",
    "anova_table = sm.stats.anova_lm(anova_model, typ=2)\n",
    "print(anova_table)\n"
   ]
  },
  {
   "cell_type": "code",
   "execution_count": 49,
   "id": "4ad11139",
   "metadata": {},
   "outputs": [
    {
     "name": "stdout",
     "output_type": "stream",
     "text": [
      "   Multiple Comparison of Means - Tukey HSD, FWER=0.05   \n",
      "=========================================================\n",
      "  group1    group2  meandiff p-adj   lower  upper  reject\n",
      "---------------------------------------------------------\n",
      "       No Sometimes  -0.0017 0.6937 -0.0068 0.0033  False\n",
      "       No       Yes   0.0161    0.0  0.0097 0.0226   True\n",
      "Sometimes       Yes   0.0178    0.0  0.0101 0.0255   True\n",
      "---------------------------------------------------------\n"
     ]
    }
   ],
   "source": [
    "from statsmodels.stats.multicomp import pairwise_tukeyhsd\n",
    "\n",
    "# Run Tukey’s test\n",
    "tukey = pairwise_tukeyhsd(endog=participant_power['power'],\n",
    "                          groups=participant_power['tremor_level'],\n",
    "                          alpha=0.05)\n",
    "\n",
    "# Print summary table\n",
    "print(tukey.summary())"
   ]
  },
  {
   "cell_type": "code",
   "execution_count": null,
   "id": "f12eeaf2",
   "metadata": {},
   "outputs": [],
   "source": []
  }
 ],
 "metadata": {
  "kernelspec": {
   "display_name": "Python 3",
   "language": "python",
   "name": "python3"
  },
  "language_info": {
   "codemirror_mode": {
    "name": "ipython",
    "version": 3
   },
   "file_extension": ".py",
   "mimetype": "text/x-python",
   "name": "python",
   "nbconvert_exporter": "python",
   "pygments_lexer": "ipython3",
   "version": "3.13.3"
  }
 },
 "nbformat": 4,
 "nbformat_minor": 5
}
