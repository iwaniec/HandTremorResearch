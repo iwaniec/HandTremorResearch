{
 "cells": [
  {
   "cell_type": "markdown",
   "id": "0bc0f2e5",
   "metadata": {},
   "source": [
    "# Data Analysis and Visualization of Cursor Accuracy with Tremor Identification\n",
    "\n",
    "This code was developed to analyze data and generate figures for \"Evaluating Mouse Control and Usability Patterns Across Tremor and Non-Tremor Populations\""
   ]
  },
  {
   "cell_type": "markdown",
   "id": "5b11a599",
   "metadata": {},
   "source": [
    "### Loading necessary libraries"
   ]
  },
  {
   "cell_type": "code",
   "execution_count": 1,
   "id": "ce643f0e",
   "metadata": {},
   "outputs": [],
   "source": [
    "import os\n",
    "import numpy as np\n",
    "import pandas as pd\n",
    "import matplotlib.pyplot as plt\n",
    "import seaborn as sns"
   ]
  },
  {
   "cell_type": "markdown",
   "id": "630c6492",
   "metadata": {},
   "source": [
    "## Combining Mouse Click Accuracy and Tremor Data"
   ]
  },
  {
   "cell_type": "code",
   "execution_count": 2,
   "id": "fe79077c",
   "metadata": {},
   "outputs": [],
   "source": [
    "# XY cursor targets for tasks\n",
    "targets = pd.read_csv(\"./targets.csv\")\n",
    "targets = targets[['X', 'Y']]\n",
    "\n",
    "# tremor status of participants\n",
    "tremors = pd.read_csv('../survey analysis/survey_results_text.csv', skiprows=1, header=0)\n",
    "tremors = tremors[tremors['participant_ID']!='SURVEY TEST']\n",
    "tremors = tremors[['participant_ID', 'tremor_level']]"
   ]
  },
  {
   "cell_type": "code",
   "execution_count": 3,
   "id": "c1ea7aca",
   "metadata": {},
   "outputs": [],
   "source": [
    "# Create dataframe with distance of mouse click from target in pixels\n",
    "off_targets = pd.DataFrame({'participant_ID': [], 'off_target_distance': []})\n",
    "\n",
    "for i in range(50):\n",
    "    if os.path.exists(\"./data/positions_\" + str(i) + \".txt\"):\n",
    "        # Cursor Data\n",
    "        cursor = pd.read_csv(\"./data/positions_\" + str(i) + \".txt\", sep='\\t', header=None, names=['time', 'X', 'Y'])\n",
    "        clicks = cursor[cursor['time'] == 'Mouse Click'].index\n",
    "        clicks = cursor.loc[clicks-1]\n",
    "        clicks.reset_index(inplace=True)\n",
    "        clicks = clicks[['X', 'Y']]\n",
    "\n",
    "        x_dis = clicks['X']-targets['X']\n",
    "        y_dis = clicks['Y']-targets['Y']\n",
    "\n",
    "        for j in range(len(x_dis)):\n",
    "            off_targets.loc[len(off_targets)] = ['PT' + str(i).zfill(2), np.mean(np.sqrt(x_dis[j]**2 + y_dis[j]**2))]\n",
    "\n",
    "# Merge the data\n",
    "click_accuracy = pd.merge(tremors, off_targets, on='participant_ID')"
   ]
  },
  {
   "cell_type": "markdown",
   "id": "905553cd",
   "metadata": {},
   "source": [
    "## Mixed-Effects Model of Task Click Accuracy"
   ]
  },
  {
   "cell_type": "code",
   "execution_count": 4,
   "id": "5c8b43a3",
   "metadata": {},
   "outputs": [
    {
     "name": "stdout",
     "output_type": "stream",
     "text": [
      "                   Mixed Linear Model Regression Results\n",
      "============================================================================\n",
      "Model:                 MixedLM    Dependent Variable:    off_target_distance\n",
      "No. Observations:      1008       Method:                REML               \n",
      "No. Groups:            48         Scale:                 58588.2449         \n",
      "Min. group size:       21         Log-Likelihood:        -6982.0276         \n",
      "Max. group size:       21         Converged:             Yes                \n",
      "Mean group size:       21.0                                                 \n",
      "----------------------------------------------------------------------------\n",
      "                              Coef.   Std.Err.   z    P>|z|  [0.025   0.975]\n",
      "----------------------------------------------------------------------------\n",
      "Intercept                      49.299   17.434  2.828 0.005   15.128  83.469\n",
      "C(tremor_level)[T.Sometimes]  -18.430   43.710 -0.422 0.673 -104.100  67.240\n",
      "C(tremor_level)[T.Yes]        218.824   55.817  3.920 0.000  109.425 328.223\n",
      "Group Var                    8456.398   10.022                              \n",
      "============================================================================\n",
      "\n"
     ]
    }
   ],
   "source": [
    "# Fit a linear mixed-effects model\n",
    "import statsmodels.api as sm\n",
    "from statsmodels.regression.mixed_linear_model import MixedLM\n",
    "import statsmodels.formula.api as smf\n",
    "\n",
    "model = smf.mixedlm(\"off_target_distance ~ C(tremor_level)\", data=click_accuracy, groups=click_accuracy[\"participant_ID\"])\n",
    "result = model.fit()\n",
    "print(result.summary())"
   ]
  },
  {
   "cell_type": "code",
   "execution_count": 6,
   "id": "7f15b240",
   "metadata": {},
   "outputs": [
    {
     "data": {
      "image/png": "[encoded data removed]",
      "text/plain": [
       "<Figure size 350x250 with 1 Axes>"
      ]
     },
     "metadata": {},
     "output_type": "display_data"
    }
   ],
   "source": [
    "plt.figure(figsize=(3.5,2.5))\n",
    "\n",
    "sns.boxplot(data=click_accuracy, x='tremor_level', y='off_target_distance', color='grey')\n",
    "plt.ylim([0, 80])\n",
    "plt.title('Off Target Distance by Tremor Level', fontsize=12)\n",
    "plt.xlabel('Tremor Occurance')\n",
    "plt.ylabel('Distance from Target (px)')\n",
    "plt.tight_layout()\n",
    "plt.savefig('distance_to_target.png', dpi=300, bbox_inches='tight')"
   ]
  },
  {
   "cell_type": "markdown",
   "id": "5ff5579c",
   "metadata": {},
   "source": [
    "## Mean Click Accuracy per Participant"
   ]
  },
  {
   "cell_type": "markdown",
   "id": "b368605b",
   "metadata": {},
   "source": [
    "### Combine Data Into One DataFrame"
   ]
  },
  {
   "cell_type": "code",
   "execution_count": 9,
   "id": "29caed96",
   "metadata": {},
   "outputs": [],
   "source": [
    "mean_click_accuracy = click_accuracy.groupby(['participant_ID', 'tremor_level'], as_index=False)['off_target_distance'].mean()"
   ]
  },
  {
   "cell_type": "code",
   "execution_count": 10,
   "id": "3a926773",
   "metadata": {},
   "outputs": [
    {
     "data": {
      "image/png": "[encoded data removed]",
      "text/plain": [
       "<Figure size 350x250 with 1 Axes>"
      ]
     },
     "metadata": {},
     "output_type": "display_data"
    }
   ],
   "source": [
    "plt.figure(figsize=(3.5,2.5))\n",
    "\n",
    "sns.boxplot(data=click_accuracy, x='tremor_level', y='off_target_distance', color='grey')\n",
    "plt.ylim([0, 80])\n",
    "plt.title('Off Target Distance by Tremor Level', fontsize=12)\n",
    "plt.xlabel('Tremor Occurance')\n",
    "plt.ylabel('Distance from Target (px)')\n",
    "plt.tight_layout()\n",
    "plt.savefig('distance_to_target.png', dpi=300, bbox_inches='tight')"
   ]
  },
  {
   "cell_type": "code",
   "execution_count": 11,
   "id": "b9cfefd4",
   "metadata": {},
   "outputs": [
    {
     "name": "stdout",
     "output_type": "stream",
     "text": [
      "                        sum_sq    df         F    PR(>F)\n",
      "C(tremor_level)  182310.015469   2.0  8.105126  0.000986\n",
      "Residual         506096.435282  45.0       NaN       NaN\n"
     ]
    }
   ],
   "source": [
    "import statsmodels.api as sm\n",
    "from statsmodels.formula.api import ols\n",
    "\n",
    "# One-way ANOVA: Score by tremor_level\n",
    "anova_model = ols('off_target_distance ~ C(tremor_level)', data=mean_click_accuracy).fit()\n",
    "anova_table = sm.stats.anova_lm(anova_model, typ=2)\n",
    "print(anova_table)\n"
   ]
  },
  {
   "cell_type": "code",
   "execution_count": 12,
   "id": "4ad11139",
   "metadata": {},
   "outputs": [
    {
     "name": "stdout",
     "output_type": "stream",
     "text": [
      "     Multiple Comparison of Means - Tukey HSD, FWER=0.05     \n",
      "=============================================================\n",
      "  group1    group2  meandiff p-adj    lower    upper   reject\n",
      "-------------------------------------------------------------\n",
      "       No Sometimes   -18.43 0.9069 -124.3676  87.5076  False\n",
      "       No       Yes 218.8237 0.0009   83.5434 354.1041   True\n",
      "Sometimes       Yes 237.2537 0.0024   76.1554 398.3521   True\n",
      "-------------------------------------------------------------\n"
     ]
    }
   ],
   "source": [
    "from statsmodels.stats.multicomp import pairwise_tukeyhsd\n",
    "\n",
    "# Run Tukey’s test\n",
    "tukey = pairwise_tukeyhsd(endog=mean_click_accuracy['off_target_distance'],\n",
    "                          groups=mean_click_accuracy['tremor_level'],\n",
    "                          alpha=0.05)\n",
    "\n",
    "# Print summary table\n",
    "print(tukey.summary())"
   ]
  },
  {
   "cell_type": "code",
   "execution_count": null,
   "id": "e54b2d9f",
   "metadata": {},
   "outputs": [],
   "source": []
  }
 ],
 "metadata": {
  "kernelspec": {
   "display_name": "Python 3",
   "language": "python",
   "name": "python3"
  },
  "language_info": {
   "codemirror_mode": {
    "name": "ipython",
    "version": 3
   },
   "file_extension": ".py",
   "mimetype": "text/x-python",
   "name": "python",
   "nbconvert_exporter": "python",
   "pygments_lexer": "ipython3",
   "version": "3.12.4"
  }
 },
 "nbformat": 4,
 "nbformat_minor": 5
}
