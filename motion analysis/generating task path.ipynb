{
 "cells": [
  {
   "cell_type": "markdown",
   "id": "5b59eb5f",
   "metadata": {},
   "source": [
    "## Generating Ideal Path from Participant Tasks"
   ]
  },
  {
   "cell_type": "code",
   "execution_count": null,
   "id": "eefbcf5b",
   "metadata": {},
   "outputs": [],
   "source": []
  }
 ],
 "metadata": {
  "kernelspec": {
   "display_name": "Python 3",
   "language": "python",
   "name": "python3"
  },
  "language_info": {
   "name": "python",
   "version": "3.12.4"
  }
 },
 "nbformat": 4,
 "nbformat_minor": 5
}
