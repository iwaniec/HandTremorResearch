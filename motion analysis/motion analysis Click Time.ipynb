{
 "cells": [
  {
   "cell_type": "markdown",
   "id": "0bc0f2e5",
   "metadata": {},
   "source": [
    "# Data Analysis and Visualization of Time to Target with Tremor Identification\n",
    "\n",
    "This code was developed to analyze data and generate figures for \"Evaluating Mouse Control and Usability Patterns Across Tremor and Non-Tremor Populations\""
   ]
  },
  {
   "cell_type": "markdown",
   "id": "5b11a599",
   "metadata": {},
   "source": [
    "### Loading necessary libraries"
   ]
  },
  {
   "cell_type": "code",
   "execution_count": 2,
   "id": "ce643f0e",
   "metadata": {},
   "outputs": [],
   "source": [
    "import os\n",
    "import numpy as np\n",
    "import pandas as pd\n",
    "import matplotlib.pyplot as plt\n",
    "import seaborn as sns\n",
    "from scipy import stats"
   ]
  },
  {
   "cell_type": "markdown",
   "id": "630c6492",
   "metadata": {},
   "source": [
    "## Combining Mouse Time to Target and Tremor Data"
   ]
  },
  {
   "cell_type": "code",
   "execution_count": 3,
   "id": "fe79077c",
   "metadata": {},
   "outputs": [],
   "source": [
    "# XY cursor targets for tasks\n",
    "targets = pd.read_csv(\"./targets.csv\")\n",
    "targets = targets[['X', 'Y']]\n",
    "\n",
    "# tremor status of participants\n",
    "tremors = pd.read_csv('../survey analysis/survey_results_text.csv', skiprows=1, header=0)\n",
    "tremors = tremors[tremors['participant_ID']!='SURVEY TEST']\n",
    "tremors = tremors[['participant_ID', 'tremor_level']]"
   ]
  },
  {
   "cell_type": "code",
   "execution_count": 4,
   "id": "73526286",
   "metadata": {},
   "outputs": [],
   "source": [
    "i = 1\n",
    "cursor = pd.read_csv(\"./data/positions_\" + str(i) + \".txt\", sep='\\t', header=None, names=['time', 'X', 'Y'])\n",
    "clicks = cursor[cursor['time'] == 'Mouse Click'].index\n",
    "clicks = cursor.loc[clicks-1]\n",
    "clicks['time'] = pd.to_numeric(clicks['time'])\n",
    "clicks['time_to_target'] = clicks['time'].diff()\n",
    "clicks['participant_ID'] = 'PT' + str(i).zfill(2)"
   ]
  },
  {
   "cell_type": "code",
   "execution_count": 5,
   "id": "c1ea7aca",
   "metadata": {},
   "outputs": [],
   "source": [
    "# Create dataframe with distance of mouse click from target in pixels\n",
    "time_to_target = pd.DataFrame({'participant_ID': [], 'time_to_target': []})\n",
    "\n",
    "for i in range(50):\n",
    "    if os.path.exists(\"./data/positions_\" + str(i) + \".txt\"):\n",
    "\n",
    "        # Identify Times of Clicks\n",
    "        cursor = pd.read_csv(\"./data/positions_\" + str(i) + \".txt\", sep='\\t', header=None, names=['time', 'X', 'Y'])\n",
    "        clicks = cursor[cursor['time'] == 'Mouse Click'].index\n",
    "        clicks = cursor.loc[clicks-1]\n",
    "        clicks['time'] = pd.to_numeric(clicks['time'])\n",
    "\n",
    "        clicks['time_to_target'] = clicks['time'].diff()       \n",
    "        clicks['participant_ID'] = 'PT' + str(i).zfill(2)\n",
    "\n",
    "        df = clicks[['participant_ID', 'time_to_target']]\n",
    "        time_to_target = pd.concat([time_to_target, df], ignore_index=True)\n",
    "\n",
    "# Merge the data\n",
    "task_time = pd.merge(tremors, time_to_target, on='participant_ID')\n",
    "task_time = task_time.dropna()"
   ]
  },
  {
   "cell_type": "markdown",
   "id": "905553cd",
   "metadata": {},
   "source": [
    "## Mixed-Effects Model of Task Click Accuracy"
   ]
  },
  {
   "cell_type": "code",
   "execution_count": 6,
   "id": "5c8b43a3",
   "metadata": {},
   "outputs": [
    {
     "name": "stdout",
     "output_type": "stream",
     "text": [
      "                Mixed Linear Model Regression Results\n",
      "======================================================================\n",
      "Model:                MixedLM    Dependent Variable:    time_to_target\n",
      "No. Observations:     960        Method:                REML          \n",
      "No. Groups:           48         Scale:                 186.1800      \n",
      "Min. group size:      20         Log-Likelihood:        -3909.2625    \n",
      "Max. group size:      20         Converged:             Yes           \n",
      "Mean group size:      20.0                                            \n",
      "----------------------------------------------------------------------\n",
      "                             Coef.  Std.Err.   z   P>|z| [0.025 0.975]\n",
      "----------------------------------------------------------------------\n",
      "Intercept                    12.524    1.287 9.734 0.000 10.002 15.046\n",
      "C(tremor_level)[T.Sometimes]  1.855    3.226 0.575 0.565 -4.467  8.178\n",
      "C(tremor_level)[T.Yes]       12.113    4.119 2.941 0.003  4.039 20.187\n",
      "Group Var                    51.943    0.969                          \n",
      "======================================================================\n",
      "\n"
     ]
    }
   ],
   "source": [
    "# Fit a linear mixed-effects model\n",
    "import statsmodels.api as sm\n",
    "from statsmodels.regression.mixed_linear_model import MixedLM\n",
    "import statsmodels.formula.api as smf\n",
    "\n",
    "model = smf.mixedlm(\"time_to_target ~ C(tremor_level)\", data=task_time, groups=task_time[\"participant_ID\"])\n",
    "result = model.fit()\n",
    "print(result.summary())"
   ]
  },
  {
   "cell_type": "code",
   "execution_count": 16,
   "id": "7f15b240",
   "metadata": {},
   "outputs": [
    {
     "data": {
      "image/png": "[encoded data removed]",
      "text/plain": [
       "<Figure size 350x250 with 1 Axes>"
      ]
     },
     "metadata": {},
     "output_type": "display_data"
    }
   ],
   "source": [
    "plt.figure(figsize=(3.5,2.5))\n",
    "\n",
    "sns.boxplot(data=task_time, x='tremor_level', y='time_to_target', color='grey')\n",
    "plt.ylim([0, 80])\n",
    "plt.title('Time to Target by Tremor Level', fontsize=12)\n",
    "plt.xlabel('Tremor Occurance')\n",
    "plt.ylabel('Time to Click (sec)')\n",
    "plt.tight_layout()\n",
    "plt.savefig('time_to_target.png', dpi=300, bbox_inches='tight')"
   ]
  },
  {
   "cell_type": "markdown",
   "id": "5ff5579c",
   "metadata": {},
   "source": [
    "## Mean Click Accuracy per Participant"
   ]
  },
  {
   "cell_type": "markdown",
   "id": "b368605b",
   "metadata": {},
   "source": [
    "### Combine Data Into One DataFrame"
   ]
  },
  {
   "cell_type": "code",
   "execution_count": 8,
   "id": "29caed96",
   "metadata": {},
   "outputs": [],
   "source": [
    "mean_time = task_time.groupby(['participant_ID', 'tremor_level'], as_index=False)['time_to_target'].mean()"
   ]
  },
  {
   "cell_type": "code",
   "execution_count": 17,
   "id": "3a926773",
   "metadata": {},
   "outputs": [
    {
     "data": {
      "image/png": "[encoded data removed]",
      "text/plain": [
       "<Figure size 350x250 with 1 Axes>"
      ]
     },
     "metadata": {},
     "output_type": "display_data"
    }
   ],
   "source": [
    "plt.figure(figsize=(3.5,2.5))\n",
    "\n",
    "sns.boxplot(data=mean_time, x='tremor_level', y='time_to_target', color='grey')\n",
    "plt.ylim([0, 80])\n",
    "plt.title('Mean Time to Click', fontsize=12)\n",
    "plt.xlabel('Tremor Occurance')\n",
    "plt.ylabel('Time to Target (sec)')\n",
    "plt.tight_layout()\n",
    "plt.savefig('time_to_target.png', dpi=300, bbox_inches='tight')"
   ]
  },
  {
   "cell_type": "code",
   "execution_count": 14,
   "id": "b9cfefd4",
   "metadata": {},
   "outputs": [
    {
     "name": "stdout",
     "output_type": "stream",
     "text": [
      "                      sum_sq    df         F    PR(>F)\n",
      "C(tremor_level)   532.341423   2.0  4.345475  0.018815\n",
      "Residual         2756.357627  45.0       NaN       NaN\n"
     ]
    }
   ],
   "source": [
    "import statsmodels.api as sm\n",
    "from statsmodels.formula.api import ols\n",
    "\n",
    "# One-way ANOVA: Score by tremor_level\n",
    "anova_model = ols('time_to_target ~ C(tremor_level)', data=mean_time).fit()\n",
    "anova_table = sm.stats.anova_lm(anova_model, typ=2)\n",
    "print(anova_table)\n"
   ]
  },
  {
   "cell_type": "code",
   "execution_count": 15,
   "id": "4ad11139",
   "metadata": {},
   "outputs": [
    {
     "name": "stdout",
     "output_type": "stream",
     "text": [
      "   Multiple Comparison of Means - Tukey HSD, FWER=0.05    \n",
      "==========================================================\n",
      "  group1    group2  meandiff p-adj   lower   upper  reject\n",
      "----------------------------------------------------------\n",
      "       No Sometimes   1.8552 0.3882 -1.4614  5.1719  False\n",
      "       No       Yes  12.1129    0.0  7.8775 16.3482   True\n",
      "Sometimes       Yes  10.2576    0.0   5.214 15.3013   True\n",
      "----------------------------------------------------------\n"
     ]
    }
   ],
   "source": [
    "from statsmodels.stats.multicomp import pairwise_tukeyhsd\n",
    "\n",
    "# Run Tukey’s test\n",
    "tukey = pairwise_tukeyhsd(endog=task_time['time_to_target'],\n",
    "                          groups=task_time['tremor_level'],\n",
    "                          alpha=0.05)\n",
    "\n",
    "# Print summary table\n",
    "print(tukey.summary())"
   ]
  },
  {
   "cell_type": "code",
   "execution_count": null,
   "id": "f12eeaf2",
   "metadata": {},
   "outputs": [],
   "source": []
  }
 ],
 "metadata": {
  "kernelspec": {
   "display_name": "Python 3",
   "language": "python",
   "name": "python3"
  },
  "language_info": {
   "codemirror_mode": {
    "name": "ipython",
    "version": 3
   },
   "file_extension": ".py",
   "mimetype": "text/x-python",
   "name": "python",
   "nbconvert_exporter": "python",
   "pygments_lexer": "ipython3",
   "version": "3.12.4"
  }
 },
 "nbformat": 4,
 "nbformat_minor": 5
}
